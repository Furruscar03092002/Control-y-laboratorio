{
  "nbformat": 4,
  "nbformat_minor": 0,
  "metadata": {
    "colab": {
      "name": "Copia de Untitled11.ipynb",
      "provenance": [],
      "authorship_tag": "ABX9TyO1dJUei0Iwzwq3HwzvLLkU",
      "include_colab_link": true
    },
    "kernelspec": {
      "name": "python3",
      "display_name": "Python 3"
    },
    "language_info": {
      "name": "python"
    }
  },
  "cells": [
    {
      "cell_type": "markdown",
      "metadata": {
        "id": "view-in-github",
        "colab_type": "text"
      },
      "source": [
        "<a href=\"https://colab.research.google.com/github/Furruscar03092002/Control-y-laboratorio/blob/main/Copia_de_Untitled11.ipynb\" target=\"_parent\"><img src=\"https://colab.research.google.com/assets/colab-badge.svg\" alt=\"Open In Colab\"/></a>"
      ]
    },
    {
      "cell_type": "code",
      "execution_count": null,
      "metadata": {
        "colab": {
          "base_uri": "https://localhost:8080/",
          "height": 373
        },
        "id": "lpOUz80mVMdZ",
        "outputId": "44ab9167-ecbb-4587-87c5-99f16ee8d8d4"
      },
      "outputs": [
        {
          "name": "stdout",
          "output_type": "stream",
          "text": [
            "--------------Calculo de raices------------------\n",
            "a: -2\n",
            "b: 27600\n",
            "c: -93.6e6\n"
          ]
        },
        {
          "output_type": "display_data",
          "data": {
            "image/png": "[encoded data removed]",
            "text/plain": [
              "<Figure size 432x288 with 1 Axes>"
            ]
          },
          "metadata": {
            "needs_background": "light"
          }
        },
        {
          "output_type": "stream",
          "name": "stdout",
          "text": [
            "La raices son: \n",
            "(6000.0, 7800.0)\n"
          ]
        }
      ],
      "source": [
        "import matplotlib.pyplot as pyplot\n",
        "\n",
        "def discriminante(a, b, c):\n",
        "    discrim = (b**2)-(4*a*c)\n",
        "    return discrim\n",
        "\n",
        "#def sdiscrimin():\n",
        "#    discrim \n",
        "#    return\n",
        "def f(a,b,c,x):\n",
        "    return a*(x**2) + b*x + c\n",
        "    \n",
        "\n",
        "def raices(a, b, discrim):\n",
        "    #raiz1=(-b + sqrt(discrim))/(2*a)\n",
        "    #raiz2=(-b - sqrt(discrim))/(2*a)\n",
        "    if disc < 0:\n",
        "        pass\n",
        "    elif disc == 0:\n",
        "        cero = -b/(2*a)\n",
        "        return cero\n",
        "    else:\n",
        "        raiz1 = (-b + (discrim**.5))/(2*a)\n",
        "        raiz2 = (-b - (discrim**.5))/(2*a)\n",
        "        return raiz1,raiz2\n",
        "    \n",
        "\n",
        "\n",
        "\n",
        "\n",
        "print('--------------Calculo de raices------------------')\n",
        "a=float(input('a: '))\n",
        "b=float(input('b: '))\n",
        "c=float(input('c: '))\n",
        "\n",
        "#Discriminante\n",
        "disc=discriminante(a,b,c)\n",
        "\n",
        "#Grafica\n",
        "x = range(-10000,10000)\n",
        "pyplot.plot(x, [f(a,b,c,i) for i in x])\n",
        "#Color de los Ejes\n",
        "pyplot.axhline(0, color=\"black\")\n",
        "pyplot.axvline(0, color=\"black\")\n",
        "#Limite de los ejes\n",
        "pyplot.xlim(-10000, 10000)\n",
        "pyplot.ylim(-10000, 10000)\n",
        "#Mostrar grafico\n",
        "pyplot.show()\n",
        "\n",
        "if disc < 0:\n",
        "  print(\"No hay raices positivas\")\n",
        "\n",
        "elif disc == 0:\n",
        "  print('Solo existe una raiz')\n",
        "  print(raices(a,b,disc))\n",
        "  \n",
        "  \n",
        "else:\n",
        "  print(\"La raices son: \")    \n",
        "  print(raices(a,b,disc))"
      ]
    },
    {
      "cell_type": "code",
      "source": [
        "import matplotlib.pyplot as plt\n",
        "U= lambda x: -2*x**2+27600*x-93.6e6\n",
        "precio=[];\n",
        "Utilidad=[];\n",
        "for x in range(0,12001,500):\n",
        "  precio.append(x);\n",
        "  Utilidad.append(U(x));\n",
        "fig,ax=plt.subplots();\n",
        "ax.plot(precio,Utilidad, \"sy-\", label=\"utilidad\",marker=\"o\");\n",
        "ax.legend(loc=\"best\")\n",
        "plt.show()"
      ],
      "metadata": {
        "colab": {
          "base_uri": "https://localhost:8080/",
          "height": 276
        },
        "id": "AGzDMMRGZ8vJ",
        "outputId": "afd10cd3-9a54-40ac-dc99-516e41b682ca"
      },
      "execution_count": null,
      "outputs": [
        {
          "output_type": "display_data",
          "data": {
            "image/png": "[encoded data removed]",
            "text/plain": [
              "<Figure size 432x288 with 1 Axes>"
            ]
          },
          "metadata": {
            "needs_background": "light"
          }
        }
      ]
    },
    {
      "cell_type": "code",
      "source": [
        "ingreso=lambda x: x*(15600-2*x)\n",
        "costo=lambda x: 6000*(15600-2*x)\n",
        "razon=ingreso(7100)/costo(7100);\n",
        "if razon<1:\n",
        " print(\"% de perdida\",1-razon);\n",
        "else:\n",
        " print(\"% de utilidad {:.2%}\".format(razon-1));"
      ],
      "metadata": {
        "colab": {
          "base_uri": "https://localhost:8080/"
        },
        "id": "WMuSiBcueSZl",
        "outputId": "10ab65e8-a760-4887-9446-4e526793ebaf"
      },
      "execution_count": null,
      "outputs": [
        {
          "output_type": "stream",
          "name": "stdout",
          "text": [
            "% de utilidad 18.33%\n"
          ]
        }
      ]
    }
  ]
}